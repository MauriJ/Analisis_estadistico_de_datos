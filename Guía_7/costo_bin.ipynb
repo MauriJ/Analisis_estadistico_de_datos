{
 "cells": [
  {
   "cell_type": "markdown",
   "metadata": {},
   "source": [
    "# Plot del costo de un bin de un histograma"
   ]
  },
  {
   "cell_type": "code",
   "execution_count": 1,
   "metadata": {},
   "outputs": [],
   "source": [
    "import math\n",
    "import numpy as np\n",
    "import matplotlib.pyplot as plt\n",
    "import ipywidgets as widgets"
   ]
  },
  {
   "cell_type": "markdown",
   "metadata": {},
   "source": [
    "Función de costo Poisson"
   ]
  },
  {
   "cell_type": "code",
   "execution_count": 2,
   "metadata": {},
   "outputs": [],
   "source": [
    "def pois_cost_fun(mu, k):   \n",
    "    if k==0:\n",
    "        return 2*mu\n",
    "    else:\n",
    "        return 2*(mu-k)-2*k*np.log(mu/k)"
   ]
  },
  {
   "cell_type": "markdown",
   "metadata": {},
   "source": [
    "Función de costo χ² lineal"
   ]
  },
  {
   "cell_type": "code",
   "execution_count": 3,
   "metadata": {},
   "outputs": [],
   "source": [
    "def chi2_lineal_fun(mu, k):\n",
    "    var = k    # tomo la variancia de k\n",
    "    return (mu-k)**2/var  "
   ]
  },
  {
   "cell_type": "markdown",
   "metadata": {},
   "source": [
    "Función de costo χ² no-lineal"
   ]
  },
  {
   "cell_type": "code",
   "execution_count": 4,
   "metadata": {},
   "outputs": [],
   "source": [
    "def chi2_nolineal_fun(mu, k):\n",
    "    var = mu    # tomo la variancia de μ \n",
    "    return (mu-k)**2/var    "
   ]
  },
  {
   "cell_type": "code",
   "execution_count": 5,
   "metadata": {},
   "outputs": [],
   "source": [
    "def plot_cost(k):\n",
    "\n",
    "    fig1, ax1 = plt.subplots(figsize=(8,6))\n",
    "    ax1.set_xlabel('$\\mu$', fontsize='x-large')\n",
    "    ax1.set_ylabel('$J(\\mu)$', fontsize='x-large')\n",
    "   \n",
    "    delta = 3 * math.sqrt(k)\n",
    "    mu_min = max(0.1, k-delta)\n",
    "    mu_max = max(k+delta, 10)\n",
    "    mu = np.linspace(mu_min, mu_max, 100)\n",
    "     \n",
    "    pois_cost = pois_cost_fun(mu, k)\n",
    "    ax1.plot( mu[pois_cost<10], pois_cost[pois_cost<10], label='Poisson')\n",
    "\n",
    "    if k !=  0:      # los bines sin entrados no pueden ser usados para chi2 lineal\n",
    "        chi2_lineal = chi2_lineal_fun(mu, k)\n",
    "        ax1.plot( mu[pois_cost<10], chi2_lineal[pois_cost<10], ls='--', label='$\\chi^2$ datps')\n",
    "   \n",
    "    chi2_nolineal = chi2_nolineal_fun(mu, k)\n",
    "    ax1.plot( mu[pois_cost<10], chi2_nolineal[pois_cost<10], ls='--', label='$\\chi^2$ ajuste')\n",
    "\n",
    "\n",
    "    ax1.tick_params('both', labelsize='x-large')\n",
    "    ax1.set_ylim(top=10)    \n",
    "    \n",
    "    fig1.legend(loc='upper center', fontsize='large')\n",
    "    fig1.savefig('costo_bin.svg')"
   ]
  },
  {
   "cell_type": "markdown",
   "metadata": {},
   "source": [
    "## Gráfico interactivo"
   ]
  },
  {
   "cell_type": "code",
   "execution_count": 6,
   "metadata": {},
   "outputs": [
    {
     "data": {
      "application/vnd.jupyter.widget-view+json": {
       "model_id": "a393114c3b0b40b9add39042188f1008",
       "version_major": 2,
       "version_minor": 0
      },
      "text/plain": [
       "HBox(children=(Output(), VBox(children=(Label(value='Entradas en el bin', layout=Layout(display='flex', justif…"
      ]
     },
     "metadata": {},
     "output_type": "display_data"
    }
   ],
   "source": [
    "k = widgets.IntSlider(description=\"k\", value=10, min=0, max=20, step=1)\n",
    "parameters = { \"k\": k }\n",
    "out = widgets.interactive_output(plot_cost, parameters)\n",
    "title = widgets.Label(\n",
    "    \"Entradas en el bin\",\n",
    "    layout=widgets.Layout(display=\"flex\", justify_content=\"center\"),\n",
    ")\n",
    "sliders = [title, *parameters.values()]\n",
    "display(\n",
    "    widgets.HBox(\n",
    "        [out, widgets.VBox(sliders)],\n",
    "        layout=widgets.Layout(width=\"100%\", display=\"flex\", align_items=\"center\"),\n",
    "    )\n",
    ")"
   ]
  },
  {
   "cell_type": "code",
   "execution_count": null,
   "metadata": {},
   "outputs": [],
   "source": []
  }
 ],
 "metadata": {
  "kernelspec": {
   "display_name": "Python 3",
   "language": "python",
   "name": "python3"
  },
  "language_info": {
   "codemirror_mode": {
    "name": "ipython",
    "version": 3
   },
   "file_extension": ".py",
   "mimetype": "text/x-python",
   "name": "python",
   "nbconvert_exporter": "python",
   "pygments_lexer": "ipython3",
   "version": "3.8.5"
  }
 },
 "nbformat": 4,
 "nbformat_minor": 4
}
