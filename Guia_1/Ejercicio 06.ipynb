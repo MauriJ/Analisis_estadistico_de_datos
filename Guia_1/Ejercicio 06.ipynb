{
 "cells": [
  {
   "cell_type": "code",
   "execution_count": 5,
   "source": [
    "import numpy as np\r\n",
    "import matplotlib.pyplot as plt\r\n",
    "from numpy.random import default_rng\r\n",
    "rng = np.random.default_rng()"
   ],
   "outputs": [],
   "metadata": {}
  },
  {
   "cell_type": "code",
   "execution_count": 138,
   "source": [
    "manos_restantes = 26\r\n",
    "victoria = 26\r\n",
    "manos_fermat = 15\r\n",
    "victoria_fermat = victoria - manos_fermat"
   ],
   "outputs": [],
   "metadata": {}
  },
  {
   "cell_type": "code",
   "execution_count": 145,
   "source": [
    "exitos = 0\r\n",
    "simulaciones = 1000\r\n",
    "\r\n",
    "for i in range(simulaciones):\r\n",
    "    rondas = rng.integers(0, high=1, size=manos_restantes, endpoint=True)\r\n",
    "    if sum(rondas) >= victoria_fermat:\r\n",
    "        exitos += 1\r\n",
    "\r\n",
    "division_justa = exitos/simulaciones\r\n",
    "\r\n",
    "print('La division justa es {} %'.format(division_justa*100))"
   ],
   "outputs": [
    {
     "output_type": "stream",
     "name": "stdout",
     "text": [
      "La division justa es 85.3 %\n"
     ]
    }
   ],
   "metadata": {}
  }
 ],
 "metadata": {
  "orig_nbformat": 4,
  "language_info": {
   "name": "python",
   "version": "3.7.1",
   "mimetype": "text/x-python",
   "codemirror_mode": {
    "name": "ipython",
    "version": 3
   },
   "pygments_lexer": "ipython3",
   "nbconvert_exporter": "python",
   "file_extension": ".py"
  },
  "kernelspec": {
   "name": "python3",
   "display_name": "Python 3.7.1 64-bit ('base': conda)"
  },
  "interpreter": {
   "hash": "af573f283834de0d94267a2f349eb6a57bfc80fc16df6f4176b3eb1c7a5367fc"
  }
 },
 "nbformat": 4,
 "nbformat_minor": 2
}