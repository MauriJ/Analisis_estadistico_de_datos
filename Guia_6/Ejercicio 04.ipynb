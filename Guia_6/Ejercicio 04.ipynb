{
 "cells": [
  {
   "cell_type": "code",
   "execution_count": 15,
   "metadata": {},
   "outputs": [],
   "source": [
    "import numpy as np"
   ]
  },
  {
   "cell_type": "code",
   "execution_count": 10,
   "metadata": {},
   "outputs": [],
   "source": [
    "aire = np.array([1903, 1935, 1910, 2496, 2108, 1961, 2060, 1444, 1612, 1316, 1511])\n",
    "horno = np.array([2009, 1915, 2011, 2463, 2180, 1925, 2122, 1482, 1542, 1443, 1535])\n",
    "dif = horno - aire"
   ]
  },
  {
   "cell_type": "code",
   "execution_count": 18,
   "metadata": {},
   "outputs": [
    {
     "name": "stdout",
     "output_type": "stream",
     "text": [
      "33.72727272727273 63.091695043571896 1.7729862664348761\n"
     ]
    }
   ],
   "source": [
    "mu = np.mean(dif)\n",
    "std = np.std(dif)\n",
    "t = mu/(std/np.sqrt(len(dif)))\n",
    "\n",
    "print(mu, std, t)"
   ]
  }
 ],
 "metadata": {
  "interpreter": {
   "hash": "af573f283834de0d94267a2f349eb6a57bfc80fc16df6f4176b3eb1c7a5367fc"
  },
  "kernelspec": {
   "display_name": "Python 3.7.1 64-bit (conda)",
   "language": "python",
   "name": "python3"
  },
  "language_info": {
   "codemirror_mode": {
    "name": "ipython",
    "version": 3
   },
   "file_extension": ".py",
   "mimetype": "text/x-python",
   "name": "python",
   "nbconvert_exporter": "python",
   "pygments_lexer": "ipython3",
   "version": "3.7.1"
  },
  "orig_nbformat": 4
 },
 "nbformat": 4,
 "nbformat_minor": 2
}
