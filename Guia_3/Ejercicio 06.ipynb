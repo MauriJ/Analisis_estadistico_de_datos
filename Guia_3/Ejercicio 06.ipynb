{
 "cells": [
  {
   "cell_type": "code",
   "execution_count": 1,
   "metadata": {},
   "outputs": [],
   "source": [
    "import numpy as np\n",
    "import matplotlib.pyplot as plt"
   ]
  },
  {
   "cell_type": "code",
   "execution_count": 39,
   "metadata": {},
   "outputs": [],
   "source": [
    "lista_x = (1, 2.5, 3.1, 4, 5.5)\n",
    "lista_y = (1.85, 2.72, 5.15, 5.7, 6.9)\n",
    "lista_b = [(0.834, 0.406, 0.234, -0.023, -0.451), (-0.197, -0.004, -0.011, 0.009, 0.202)]\n",
    "\n",
    "y_T = np.array(lista_y)\n",
    "y = y_T.reshape(5,1)\n",
    "\n",
    "B = np.array(lista_b)\n",
    "\n",
    "V = np.eye(5)*0.25"
   ]
  },
  {
   "cell_type": "code",
   "execution_count": 44,
   "metadata": {},
   "outputs": [
    {
     "name": "stdout",
     "output_type": "stream",
     "text": [
      "[[0.60932]\n",
      " [1.01312]]\n",
      "[[ 0.2797695  -0.06495125]\n",
      " [-0.06495125  0.01995775]]\n",
      "[0.52893242 0.1412719 ]\n",
      "-0.8692236639768546\n"
     ]
    }
   ],
   "source": [
    "theta = np.dot(B, y)\n",
    "V_prima = np.dot(B,np.dot(V, B.T)) \n",
    "desv_std = np.sqrt(np.diag(V_prima))\n",
    "rho = V_prima[0,1]/np.prod(desv_std)\n",
    "\n",
    "print(theta)\n",
    "print(V_prima)\n",
    "print(desv_std)\n",
    "print(rho)"
   ]
  },
  {
   "cell_type": "code",
   "execution_count": 45,
   "metadata": {},
   "outputs": [
    {
     "data": {
      "image/png": "[encoded data removed]",
      "text/plain": [
       "<Figure size 432x288 with 1 Axes>"
      ]
     },
     "metadata": {
      "needs_background": "light"
     },
     "output_type": "display_data"
    }
   ],
   "source": [
    "x = np.arange(0,6, 0.1)\n",
    "\n",
    "plt.errorbar(lista_x, lista_y, (0.5, 0.5, 0.5, 0.5, 0.5), fmt = 'o')\n",
    "plt.plot(x,theta[1]*x + theta[0])\n",
    "plt.show()"
   ]
  }
 ],
 "metadata": {
  "interpreter": {
   "hash": "af573f283834de0d94267a2f349eb6a57bfc80fc16df6f4176b3eb1c7a5367fc"
  },
  "kernelspec": {
   "display_name": "Python 3.7.1 64-bit (conda)",
   "name": "python3"
  },
  "language_info": {
   "codemirror_mode": {
    "name": "ipython",
    "version": 3
   },
   "file_extension": ".py",
   "mimetype": "text/x-python",
   "name": "python",
   "nbconvert_exporter": "python",
   "pygments_lexer": "ipython3",
   "version": "3.7.1"
  },
  "orig_nbformat": 4
 },
 "nbformat": 4,
 "nbformat_minor": 2
}
