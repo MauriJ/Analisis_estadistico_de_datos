{
 "cells": [
  {
   "cell_type": "code",
   "execution_count": 1,
   "metadata": {},
   "outputs": [],
   "source": [
    "import math\n",
    "import numpy as np\n",
    "import matplotlib.pyplot as plt\n",
    "from scipy.stats import binom"
   ]
  },
  {
   "cell_type": "code",
   "execution_count": 26,
   "metadata": {},
   "outputs": [
    {
     "name": "stdout",
     "output_type": "stream",
     "text": [
      "La cobertura simulada es de 88.6 %, la cual difiere significativamente de la cobertura normal estandar del 95 %\n"
     ]
    }
   ],
   "source": [
    "n = 32\n",
    "p = 0.2\n",
    "\n",
    "sim = 10000\n",
    "cuenta = 0\n",
    "\n",
    "for i in range(sim):\n",
    "    k = binom.rvs(n, p)\n",
    "    p_est = k/n\n",
    "\n",
    "    p1 = p_est - 1.96*np.sqrt(p_est*(1-p_est)/n)\n",
    "    p2 = p_est + 1.96*np.sqrt(p_est*(1-p_est)/n)\n",
    "    if p > p1 and p < p2:\n",
    "        cuenta += 1\n",
    "\n",
    "cobertura = 100*cuenta/sim\n",
    "\n",
    "print('La cobertura simulada es de {} %, la cual difiere significativamente de la cobertura normal estandar del 95 %'.format(cobertura))"
   ]
  },
  {
   "cell_type": "code",
   "execution_count": 83,
   "metadata": {},
   "outputs": [],
   "source": [
    "sim = 1000\n",
    "cobertura2 = []\n",
    "rango_p = np.linspace(0, 1, 100)\n",
    "\n",
    "for j in rango_p:\n",
    "    cuenta = 0\n",
    "    for i in range(sim):\n",
    "        k = binom.rvs(n, j)\n",
    "        p_est = k/n\n",
    "\n",
    "        p1 = p_est - 1.96*np.sqrt(p_est*(1-p_est)/n)\n",
    "        p2 = p_est + 1.96*np.sqrt(p_est*(1-p_est)/n)\n",
    "        if j > p1 and j < p2:\n",
    "            cuenta += 1\n",
    "    cobertura2.append(100*cuenta/sim) "
   ]
  },
  {
   "cell_type": "code",
   "execution_count": 84,
   "metadata": {},
   "outputs": [
    {
     "data": {
      "image/png": "[encoded data removed]",
      "text/plain": [
       "<Figure size 540x360 with 1 Axes>"
      ]
     },
     "metadata": {
      "needs_background": "light"
     },
     "output_type": "display_data"
    }
   ],
   "source": [
    "plt.figure(figsize=(7.5,5))\n",
    "plt.plot(rango_p, cobertura2, 'o')\n",
    "plt.xlabel('p', fontsize = 14)\n",
    "plt.ylabel('Cobertura (%)', fontsize = 14)\n",
    "plt.show()"
   ]
  }
 ],
 "metadata": {
  "interpreter": {
   "hash": "3d367d8b5f731d74b5f172eada454649e361bab6c8c58e6cd3977c41c1c5d6d3"
  },
  "kernelspec": {
   "display_name": "Python 3.8.2 64-bit (conda)",
   "language": "python",
   "name": "python3"
  },
  "language_info": {
   "codemirror_mode": {
    "name": "ipython",
    "version": 3
   },
   "file_extension": ".py",
   "mimetype": "text/x-python",
   "name": "python",
   "nbconvert_exporter": "python",
   "pygments_lexer": "ipython3",
   "version": "3.7.1"
  },
  "orig_nbformat": 4
 },
 "nbformat": 4,
 "nbformat_minor": 2
}
