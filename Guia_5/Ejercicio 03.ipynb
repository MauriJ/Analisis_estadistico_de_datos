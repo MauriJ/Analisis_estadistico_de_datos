{
 "cells": [
  {
   "cell_type": "code",
   "execution_count": 8,
   "metadata": {},
   "outputs": [],
   "source": [
    "import math\n",
    "import numpy as np\n",
    "from scipy.stats import norm"
   ]
  },
  {
   "cell_type": "code",
   "execution_count": 65,
   "metadata": {},
   "outputs": [],
   "source": [
    "mu = 10\n",
    "sigma = 1\n",
    "q = 1"
   ]
  },
  {
   "cell_type": "code",
   "execution_count": 72,
   "metadata": {},
   "outputs": [
    {
     "name": "stdout",
     "output_type": "stream",
     "text": [
      "La cobertura simulada es de = 68.31 %\n",
      "La coberturta teórica es de 68,3 %\n"
     ]
    }
   ],
   "source": [
    "cuenta = 0\n",
    "sim = 10000\n",
    "\n",
    "for i in range(sim):\n",
    "    x = norm.rvs(loc=mu, scale=sigma, size=2)\n",
    "    n = len(x)\n",
    "    t1 = np.mean(x) - q*sigma/math.sqrt(n)\n",
    "    t2 = np.mean(x) + q*sigma/math.sqrt(n)\n",
    "\n",
    "    if mu > t1 and mu < t2:\n",
    "        cuenta += 1\n",
    "\n",
    "cobertura = 100*cuenta/sim\n",
    "\n",
    "print('La cobertura simulada es de = {} %'.format(cobertura))\n",
    "print('La coberturta teórica es de 68,3 %')"
   ]
  }
 ],
 "metadata": {
  "interpreter": {
   "hash": "3d367d8b5f731d74b5f172eada454649e361bab6c8c58e6cd3977c41c1c5d6d3"
  },
  "kernelspec": {
   "display_name": "Python 3.8.2 64-bit (conda)",
   "language": "python",
   "name": "python3"
  },
  "language_info": {
   "codemirror_mode": {
    "name": "ipython",
    "version": 3
   },
   "file_extension": ".py",
   "mimetype": "text/x-python",
   "name": "python",
   "nbconvert_exporter": "python",
   "pygments_lexer": "ipython3",
   "version": "3.7.1"
  },
  "orig_nbformat": 4
 },
 "nbformat": 4,
 "nbformat_minor": 2
}
