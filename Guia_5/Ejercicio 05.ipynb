{
 "cells": [
  {
   "cell_type": "code",
   "execution_count": 2,
   "metadata": {},
   "outputs": [],
   "source": [
    "import math\n",
    "import numpy as np\n",
    "from scipy.stats import multivariate_normal"
   ]
  },
  {
   "cell_type": "code",
   "execution_count": 164,
   "metadata": {},
   "outputs": [],
   "source": [
    "mu1 = 10.7\n",
    "mu2 = 8.3\n",
    "sigma1 = 1.7\n",
    "sigma2 = 2.4\n",
    "p = 0.78"
   ]
  },
  {
   "cell_type": "code",
   "execution_count": 168,
   "metadata": {},
   "outputs": [
    {
     "name": "stdout",
     "output_type": "stream",
     "text": [
      "La cobertura simulada es de = 95.4 %\n",
      "La coberturta teórica es de 95 %\n"
     ]
    }
   ],
   "source": [
    "mean = (mu1, mu2)\n",
    "cov = [[sigma1**2, p*sigma1*sigma2], [p*sigma1*sigma2, sigma2**2]]\n",
    "\n",
    "sim = 1000\n",
    "cuenta = 0\n",
    "\n",
    "for i in range(sim):\n",
    "    x1, x2 = np.random.multivariate_normal(mean, cov, 5).T\n",
    "    x = np.mean(x1)\n",
    "    y = np.mean(x2)\n",
    "    n = len(x1)\n",
    "\n",
    "    q = (((x-mu1)/sigma1*math.sqrt(n))**2 + ((y-mu2)/sigma2*math.sqrt(n))**2 - 2*p*(x-mu1)*(y-mu2)/(sigma1*sigma2/n))/(1 - p**2)\n",
    "    if q <= 2.45**2:\n",
    "        cuenta += 1\n",
    "\n",
    "cobertura = 100*cuenta/sim\n",
    "\n",
    "print('La cobertura simulada es de = {} %'.format(cobertura))\n",
    "print('La coberturta teórica es de 95 %')"
   ]
  }
 ],
 "metadata": {
  "interpreter": {
   "hash": "3d367d8b5f731d74b5f172eada454649e361bab6c8c58e6cd3977c41c1c5d6d3"
  },
  "kernelspec": {
   "display_name": "Python 3.8.2 64-bit (conda)",
   "language": "python",
   "name": "python3"
  },
  "language_info": {
   "codemirror_mode": {
    "name": "ipython",
    "version": 3
   },
   "file_extension": ".py",
   "mimetype": "text/x-python",
   "name": "python",
   "nbconvert_exporter": "python",
   "pygments_lexer": "ipython3",
   "version": "3.7.1"
  },
  "orig_nbformat": 4
 },
 "nbformat": 4,
 "nbformat_minor": 2
}
