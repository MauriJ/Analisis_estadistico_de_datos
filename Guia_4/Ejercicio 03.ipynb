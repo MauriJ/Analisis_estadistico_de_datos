{
 "cells": [
  {
   "cell_type": "code",
   "execution_count": 12,
   "metadata": {},
   "outputs": [],
   "source": [
    "import numpy as np\n",
    "import matplotlib.pyplot as plt\n",
    "from scipy.stats import norm, chi2"
   ]
  },
  {
   "cell_type": "code",
   "execution_count": 94,
   "metadata": {},
   "outputs": [],
   "source": [
    "s2, sn2 = [], []\n",
    "\n",
    "for i in range(10000):\n",
    "    x_i = norm.rvs(loc=0, scale=1, size=2)\n",
    "    ss = ((x_i[0] - x_i[1])**2)/2\n",
    "    sn = ((x_i[0] - x_i[1])**2)/4\n",
    "    s2.append(ss)\n",
    "    sn2.append(sn)"
   ]
  },
  {
   "cell_type": "code",
   "execution_count": 95,
   "metadata": {},
   "outputs": [
    {
     "name": "stdout",
     "output_type": "stream",
     "text": [
      "0.019927345558885534 -0.49003632722055723\n"
     ]
    }
   ],
   "source": [
    "media_s2 = np.mean(s2)\n",
    "media_sn2 = np.mean(sn2)\n",
    "\n",
    "lista = []\n",
    "\n",
    "for i in np.arange(0, np.shape(s2)[0]):\n",
    "    lista.append((s2[i] - media_s2)**2)  \n",
    "\n",
    "sumatoria = np.sum(lista)\n",
    "\n",
    "Bias_s2 = media_s2 - 1\n",
    "Bias_sn2 = media_sn2 - 1\n",
    "\n",
    "print(Bias_s2, Bias_sn2)"
   ]
  },
  {
   "cell_type": "code",
   "execution_count": 46,
   "metadata": {},
   "outputs": [
    {
     "data": {
      "image/png": "[encoded data removed]",
      "text/plain": [
       "<Figure size 432x288 with 1 Axes>"
      ]
     },
     "metadata": {
      "needs_background": "light"
     },
     "output_type": "display_data"
    }
   ],
   "source": [
    "bin = np.arange(0,10,0.1)\n",
    "hist, bins = np.histogram(s2, bins = bin)\n",
    "\n",
    "plt.hist(s2, bins, alpha=0.5, density = True, color = 'C0')\n",
    "plt.plot(bins + 0.025, chi2.pdf(bins + 0.025, 1), '--', lw = 3, label='Chi cuadrado')\n",
    "plt.xlim(0, 6)\n",
    "plt.xlabel('x', fontsize = 14)\n",
    "plt.ylabel('P (x)', fontsize = 14)\n",
    "plt.show()"
   ]
  }
 ],
 "metadata": {
  "interpreter": {
   "hash": "af573f283834de0d94267a2f349eb6a57bfc80fc16df6f4176b3eb1c7a5367fc"
  },
  "kernelspec": {
   "display_name": "Python 3.7.1 64-bit (conda)",
   "name": "python3"
  },
  "language_info": {
   "codemirror_mode": {
    "name": "ipython",
    "version": 3
   },
   "file_extension": ".py",
   "mimetype": "text/x-python",
   "name": "python",
   "nbconvert_exporter": "python",
   "pygments_lexer": "ipython3",
   "version": "3.7.1"
  },
  "orig_nbformat": 4
 },
 "nbformat": 4,
 "nbformat_minor": 2
}
