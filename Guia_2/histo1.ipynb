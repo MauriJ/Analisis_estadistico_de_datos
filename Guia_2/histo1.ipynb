{
 "cells": [
  {
   "cell_type": "markdown",
   "source": [
    "# Probabilidad que un evento caiga en un bin"
   ],
   "metadata": {}
  },
  {
   "cell_type": "markdown",
   "source": [
    "Comparo la probabilidad exacta con la aproximada"
   ],
   "metadata": {}
  },
  {
   "cell_type": "code",
   "execution_count": 1,
   "source": [
    "%matplotlib notebook"
   ],
   "outputs": [],
   "metadata": {}
  },
  {
   "cell_type": "code",
   "execution_count": 3,
   "source": [
    "import math\r\n",
    "import numpy as np\r\n",
    "import matplotlib.pyplot as plt\r\n",
    "from scipy.stats import norm\r\n",
    "import boost_histogram as bh"
   ],
   "outputs": [],
   "metadata": {}
  },
  {
   "cell_type": "markdown",
   "source": [
    "Límites del histograma"
   ],
   "metadata": {}
  },
  {
   "cell_type": "code",
   "execution_count": 4,
   "source": [
    "xmin, xmax = -5, 5"
   ],
   "outputs": [],
   "metadata": {}
  },
  {
   "cell_type": "markdown",
   "source": [
    "Número de bines"
   ],
   "metadata": {}
  },
  {
   "cell_type": "code",
   "execution_count": 5,
   "source": [
    "#nbins = 5\r\n",
    "nbins = 11 "
   ],
   "outputs": [],
   "metadata": {}
  },
  {
   "cell_type": "code",
   "execution_count": 6,
   "source": [
    "bin_width = (xmax-xmin)/nbins\r\n",
    "print(\"Ancho del bin = \", bin_width)"
   ],
   "outputs": [
    {
     "output_type": "stream",
     "name": "stdout",
     "text": [
      "Ancho del bin =  0.9090909090909091\n"
     ]
    }
   ],
   "metadata": {}
  },
  {
   "cell_type": "code",
   "execution_count": 7,
   "source": [
    "fig = plt.figure(figsize=(8,3))\r\n",
    "ax1, ax2 = fig.subplots(1,2)\r\n",
    "ax1.set_xlabel('x')\r\n",
    "ax1.set_ylabel('f(x)')\r\n",
    "ax1.set_xlabel('x')\r\n",
    "ax2.set_ylabel('Probabilidad del bin')"
   ],
   "outputs": [
    {
     "output_type": "display_data",
     "data": {
      "application/javascript": "/* Put everything inside the global mpl namespace */\n/* global mpl */\nwindow.mpl = {};\n\nmpl.get_websocket_type = function () {\n    if (typeof WebSocket !== 'undefined') {\n        return WebSocket;\n    } else if (typeof MozWebSocket !== 'undefined') {\n        return MozWebSocket;\n    } else {\n        alert(\n            'Your browser does not have WebSocket support. ' +\n                'Please try Chrome, Safari or Firefox ≥ 6. ' +\n                'Firefox 4 and 5 are also supported but you ' +\n                'have to enable WebSockets in about:config.'\n        );\n    }\n};\n\nmpl.figure = function (figure_id, websocket, ondownload, parent_element) {\n    this.id = figure_id;\n\n    this.ws = websocket;\n\n    this.supports_binary = this.ws.binaryType !== undefined;\n\n    if (!this.supports_binary) {\n        var warnings = document.getElementById('mpl-warnings');\n        if (warnings) {\n            warnings.style.display = 'block';\n            warnings.textContent =\n                'This browser does not support binary websocket messages. ' +\n                'Performance may be slow.';\n        }\n    }\n\n    this.imageObj = new Image();\n\n    this.context = undefined;\n    this.message = undefined;\n    this.canvas = undefined;\n    this.rubberband_canvas = undefined;\n    this.rubberband_context = undefined;\n    this.format_dropdown = undefined;\n\n    this.image_mode = 'full';\n\n    this.root = document.createElement('div');\n    this.root.setAttribute('style', 'display: inline-block');\n    this._root_extra_style(this.root);\n\n    parent_element.appendChild(this.root);\n\n    this._init_header(this);\n    this._init_canvas(this);\n    this._init_toolbar(this);\n\n    var fig = this;\n\n    this.waiting = false;\n\n    this.ws.onopen = function () {\n        fig.send_message('supports_binary', { value: fig.supports_binary });\n        fig.send_message('send_image_mode', {});\n        if (fig.ratio !== 1) {\n            fig.send_message('set_dpi_ratio', { dpi_ratio: fig.ratio });\n        }\n        fig.send_message('refresh', {});\n    };\n\n    this.imageObj.onload = function () {\n        if (fig.image_mode === 'full') {\n            // Full images could contain transparency (where diff images\n            // almost always do), so we need to clear the canvas so that\n            // there is no ghosting.\n            fig.context.clearRect(0, 0, fig.canvas.width, fig.canvas.height);\n        }\n        fig.context.drawImage(fig.imageObj, 0, 0);\n    };\n\n    this.imageObj.onunload = function () {\n        fig.ws.close();\n    };\n\n    this.ws.onmessage = this._make_on_message_function(this);\n\n    this.ondownload = ondownload;\n};\n\nmpl.figure.prototype._init_header = function () {\n    var titlebar = document.createElement('div');\n    titlebar.classList =\n        'ui-dialog-titlebar ui-widget-header ui-corner-all ui-helper-clearfix';\n    var titletext = document.createElement('div');\n    titletext.classList = 'ui-dialog-title';\n    titletext.setAttribute(\n        'style',\n        'width: 100%; text-align: center; padding: 3px;'\n    );\n    titlebar.appendChild(titletext);\n    this.root.appendChild(titlebar);\n    this.header = titletext;\n};\n\nmpl.figure.prototype._canvas_extra_style = function (_canvas_div) {};\n\nmpl.figure.prototype._root_extra_style = function (_canvas_div) {};\n\nmpl.figure.prototype._init_canvas = function () {\n    var fig = this;\n\n    var canvas_div = (this.canvas_div = document.createElement('div'));\n    canvas_div.setAttribute(\n        'style',\n        'border: 1px solid #ddd;' +\n            'box-sizing: content-box;' +\n            'clear: both;' +\n            'min-height: 1px;' +\n            'min-width: 1px;' +\n            'outline: 0;' +\n            'overflow: hidden;' +\n            'position: relative;' +\n            'resize: both;'\n    );\n\n    function on_keyboard_event_closure(name) {\n        return function (event) {\n            return fig.key_event(event, name);\n        };\n    }\n\n    canvas_div.addEventListener(\n        'keydown',\n        on_keyboard_event_closure('key_press')\n    );\n    canvas_div.addEventListener(\n        'keyup',\n        on_keyboard_event_closure('key_release')\n    );\n\n    this._canvas_extra_style(canvas_div);\n    this.root.appendChild(canvas_div);\n\n    var canvas = (this.canvas = document.createElement('canvas'));\n    canvas.classList.add('mpl-canvas');\n    canvas.setAttribute('style', 'box-sizing: content-box;');\n\n    this.context = canvas.getContext('2d');\n\n    var backingStore =\n        this.context.backingStorePixelRatio ||\n        this.context.webkitBackingStorePixelRatio ||\n        this.context.mozBackingStorePixelRatio ||\n        this.context.msBackingStorePixelRatio ||\n        this.context.oBackingStorePixelRatio ||\n        this.context.backingStorePixelRatio ||\n        1;\n\n    this.ratio = (window.devicePixelRatio || 1) / backingStore;\n    if (this.ratio !== 1) {\n        fig.send_message('set_dpi_ratio', { dpi_ratio: this.ratio });\n    }\n\n    var rubberband_canvas = (this.rubberband_canvas = document.createElement(\n        'canvas'\n    ));\n    rubberband_canvas.setAttribute(\n        'style',\n        'box-sizing: content-box; position: absolute; left: 0; top: 0; z-index: 1;'\n    );\n\n    var resizeObserver = new ResizeObserver(function (entries) {\n        var nentries = entries.length;\n        for (var i = 0; i < nentries; i++) {\n            var entry = entries[i];\n            var width, height;\n            if (entry.contentBoxSize) {\n                if (entry.contentBoxSize instanceof Array) {\n                    // Chrome 84 implements new version of spec.\n                    width = entry.contentBoxSize[0].inlineSize;\n                    height = entry.contentBoxSize[0].blockSize;\n                } else {\n                    // Firefox implements old version of spec.\n                    width = entry.contentBoxSize.inlineSize;\n                    height = entry.contentBoxSize.blockSize;\n                }\n            } else {\n                // Chrome <84 implements even older version of spec.\n                width = entry.contentRect.width;\n                height = entry.contentRect.height;\n            }\n\n            // Keep the size of the canvas and rubber band canvas in sync with\n            // the canvas container.\n            if (entry.devicePixelContentBoxSize) {\n                // Chrome 84 implements new version of spec.\n                canvas.setAttribute(\n                    'width',\n                    entry.devicePixelContentBoxSize[0].inlineSize\n                );\n                canvas.setAttribute(\n                    'height',\n                    entry.devicePixelContentBoxSize[0].blockSize\n                );\n            } else {\n                canvas.setAttribute('width', width * fig.ratio);\n                canvas.setAttribute('height', height * fig.ratio);\n            }\n            canvas.setAttribute(\n                'style',\n                'width: ' + width + 'px; height: ' + height + 'px;'\n            );\n\n            rubberband_canvas.setAttribute('width', width);\n            rubberband_canvas.setAttribute('height', height);\n\n            // And update the size in Python. We ignore the initial 0/0 size\n            // that occurs as the element is placed into the DOM, which should\n            // otherwise not happen due to the minimum size styling.\n            if (width != 0 && height != 0) {\n                fig.request_resize(width, height);\n            }\n        }\n    });\n    resizeObserver.observe(canvas_div);\n\n    function on_mouse_event_closure(name) {\n        return function (event) {\n            return fig.mouse_event(event, name);\n        };\n    }\n\n    rubberband_canvas.addEventListener(\n        'mousedown',\n        on_mouse_event_closure('button_press')\n    );\n    rubberband_canvas.addEventListener(\n        'mouseup',\n        on_mouse_event_closure('button_release')\n    );\n    // Throttle sequential mouse events to 1 every 20ms.\n    rubberband_canvas.addEventListener(\n        'mousemove',\n        on_mouse_event_closure('motion_notify')\n    );\n\n    rubberband_canvas.addEventListener(\n        'mouseenter',\n        on_mouse_event_closure('figure_enter')\n    );\n    rubberband_canvas.addEventListener(\n        'mouseleave',\n        on_mouse_event_closure('figure_leave')\n    );\n\n    canvas_div.addEventListener('wheel', function (event) {\n        if (event.deltaY < 0) {\n            event.step = 1;\n        } else {\n            event.step = -1;\n        }\n        on_mouse_event_closure('scroll')(event);\n    });\n\n    canvas_div.appendChild(canvas);\n    canvas_div.appendChild(rubberband_canvas);\n\n    this.rubberband_context = rubberband_canvas.getContext('2d');\n    this.rubberband_context.strokeStyle = '#000000';\n\n    this._resize_canvas = function (width, height, forward) {\n        if (forward) {\n            canvas_div.style.width = width + 'px';\n            canvas_div.style.height = height + 'px';\n        }\n    };\n\n    // Disable right mouse context menu.\n    this.rubberband_canvas.addEventListener('contextmenu', function (_e) {\n        event.preventDefault();\n        return false;\n    });\n\n    function set_focus() {\n        canvas.focus();\n        canvas_div.focus();\n    }\n\n    window.setTimeout(set_focus, 100);\n};\n\nmpl.figure.prototype._init_toolbar = function () {\n    var fig = this;\n\n    var toolbar = document.createElement('div');\n    toolbar.classList = 'mpl-toolbar';\n    this.root.appendChild(toolbar);\n\n    function on_click_closure(name) {\n        return function (_event) {\n            return fig.toolbar_button_onclick(name);\n        };\n    }\n\n    function on_mouseover_closure(tooltip) {\n        return function (event) {\n            if (!event.currentTarget.disabled) {\n                return fig.toolbar_button_onmouseover(tooltip);\n            }\n        };\n    }\n\n    fig.buttons = {};\n    var buttonGroup = document.createElement('div');\n    buttonGroup.classList = 'mpl-button-group';\n    for (var toolbar_ind in mpl.toolbar_items) {\n        var name = mpl.toolbar_items[toolbar_ind][0];\n        var tooltip = mpl.toolbar_items[toolbar_ind][1];\n        var image = mpl.toolbar_items[toolbar_ind][2];\n        var method_name = mpl.toolbar_items[toolbar_ind][3];\n\n        if (!name) {\n            /* Instead of a spacer, we start a new button group. */\n            if (buttonGroup.hasChildNodes()) {\n                toolbar.appendChild(buttonGroup);\n            }\n            buttonGroup = document.createElement('div');\n            buttonGroup.classList = 'mpl-button-group';\n            continue;\n        }\n\n        var button = (fig.buttons[name] = document.createElement('button'));\n        button.classList = 'mpl-widget';\n        button.setAttribute('role', 'button');\n        button.setAttribute('aria-disabled', 'false');\n        button.addEventListener('click', on_click_closure(method_name));\n        button.addEventListener('mouseover', on_mouseover_closure(tooltip));\n\n        var icon_img = document.createElement('img');\n        icon_img.src = '_images/' + image + '.png';\n        icon_img.srcset = '_images/' + image + '_large.png 2x';\n        icon_img.alt = tooltip;\n        button.appendChild(icon_img);\n\n        buttonGroup.appendChild(button);\n    }\n\n    if (buttonGroup.hasChildNodes()) {\n        toolbar.appendChild(buttonGroup);\n    }\n\n    var fmt_picker = document.createElement('select');\n    fmt_picker.classList = 'mpl-widget';\n    toolbar.appendChild(fmt_picker);\n    this.format_dropdown = fmt_picker;\n\n    for (var ind in mpl.extensions) {\n        var fmt = mpl.extensions[ind];\n        var option = document.createElement('option');\n        option.selected = fmt === mpl.default_extension;\n        option.innerHTML = fmt;\n        fmt_picker.appendChild(option);\n    }\n\n    var status_bar = document.createElement('span');\n    status_bar.classList = 'mpl-message';\n    toolbar.appendChild(status_bar);\n    this.message = status_bar;\n};\n\nmpl.figure.prototype.request_resize = function (x_pixels, y_pixels) {\n    // Request matplotlib to resize the figure. Matplotlib will then trigger a resize in the client,\n    // which will in turn request a refresh of the image.\n    this.send_message('resize', { width: x_pixels, height: y_pixels });\n};\n\nmpl.figure.prototype.send_message = function (type, properties) {\n    properties['type'] = type;\n    properties['figure_id'] = this.id;\n    this.ws.send(JSON.stringify(properties));\n};\n\nmpl.figure.prototype.send_draw_message = function () {\n    if (!this.waiting) {\n        this.waiting = true;\n        this.ws.send(JSON.stringify({ type: 'draw', figure_id: this.id }));\n    }\n};\n\nmpl.figure.prototype.handle_save = function (fig, _msg) {\n    var format_dropdown = fig.format_dropdown;\n    var format = format_dropdown.options[format_dropdown.selectedIndex].value;\n    fig.ondownload(fig, format);\n};\n\nmpl.figure.prototype.handle_resize = function (fig, msg) {\n    var size = msg['size'];\n    if (size[0] !== fig.canvas.width || size[1] !== fig.canvas.height) {\n        fig._resize_canvas(size[0], size[1], msg['forward']);\n        fig.send_message('refresh', {});\n    }\n};\n\nmpl.figure.prototype.handle_rubberband = function (fig, msg) {\n    var x0 = msg['x0'] / fig.ratio;\n    var y0 = (fig.canvas.height - msg['y0']) / fig.ratio;\n    var x1 = msg['x1'] / fig.ratio;\n    var y1 = (fig.canvas.height - msg['y1']) / fig.ratio;\n    x0 = Math.floor(x0) + 0.5;\n    y0 = Math.floor(y0) + 0.5;\n    x1 = Math.floor(x1) + 0.5;\n    y1 = Math.floor(y1) + 0.5;\n    var min_x = Math.min(x0, x1);\n    var min_y = Math.min(y0, y1);\n    var width = Math.abs(x1 - x0);\n    var height = Math.abs(y1 - y0);\n\n    fig.rubberband_context.clearRect(\n        0,\n        0,\n        fig.canvas.width / fig.ratio,\n        fig.canvas.height / fig.ratio\n    );\n\n    fig.rubberband_context.strokeRect(min_x, min_y, width, height);\n};\n\nmpl.figure.prototype.handle_figure_label = function (fig, msg) {\n    // Updates the figure title.\n    fig.header.textContent = msg['label'];\n};\n\nmpl.figure.prototype.handle_cursor = function (fig, msg) {\n    var cursor = msg['cursor'];\n    switch (cursor) {\n        case 0:\n            cursor = 'pointer';\n            break;\n        case 1:\n            cursor = 'default';\n            break;\n        case 2:\n            cursor = 'crosshair';\n            break;\n        case 3:\n            cursor = 'move';\n            break;\n    }\n    fig.rubberband_canvas.style.cursor = cursor;\n};\n\nmpl.figure.prototype.handle_message = function (fig, msg) {\n    fig.message.textContent = msg['message'];\n};\n\nmpl.figure.prototype.handle_draw = function (fig, _msg) {\n    // Request the server to send over a new figure.\n    fig.send_draw_message();\n};\n\nmpl.figure.prototype.handle_image_mode = function (fig, msg) {\n    fig.image_mode = msg['mode'];\n};\n\nmpl.figure.prototype.handle_history_buttons = function (fig, msg) {\n    for (var key in msg) {\n        if (!(key in fig.buttons)) {\n            continue;\n        }\n        fig.buttons[key].disabled = !msg[key];\n        fig.buttons[key].setAttribute('aria-disabled', !msg[key]);\n    }\n};\n\nmpl.figure.prototype.handle_navigate_mode = function (fig, msg) {\n    if (msg['mode'] === 'PAN') {\n        fig.buttons['Pan'].classList.add('active');\n        fig.buttons['Zoom'].classList.remove('active');\n    } else if (msg['mode'] === 'ZOOM') {\n        fig.buttons['Pan'].classList.remove('active');\n        fig.buttons['Zoom'].classList.add('active');\n    } else {\n        fig.buttons['Pan'].classList.remove('active');\n        fig.buttons['Zoom'].classList.remove('active');\n    }\n};\n\nmpl.figure.prototype.updated_canvas_event = function () {\n    // Called whenever the canvas gets updated.\n    this.send_message('ack', {});\n};\n\n// A function to construct a web socket function for onmessage handling.\n// Called in the figure constructor.\nmpl.figure.prototype._make_on_message_function = function (fig) {\n    return function socket_on_message(evt) {\n        if (evt.data instanceof Blob) {\n            /* FIXME: We get \"Resource interpreted as Image but\n             * transferred with MIME type text/plain:\" errors on\n             * Chrome.  But how to set the MIME type?  It doesn't seem\n             * to be part of the websocket stream */\n            evt.data.type = 'image/png';\n\n            /* Free the memory for the previous frames */\n            if (fig.imageObj.src) {\n                (window.URL || window.webkitURL).revokeObjectURL(\n                    fig.imageObj.src\n                );\n            }\n\n            fig.imageObj.src = (window.URL || window.webkitURL).createObjectURL(\n                evt.data\n            );\n            fig.updated_canvas_event();\n            fig.waiting = false;\n            return;\n        } else if (\n            typeof evt.data === 'string' &&\n            evt.data.slice(0, 21) === 'data:image/png;base64'\n        ) {\n            fig.imageObj.src = evt.data;\n            fig.updated_canvas_event();\n            fig.waiting = false;\n            return;\n        }\n\n        var msg = JSON.parse(evt.data);\n        var msg_type = msg['type'];\n\n        // Call the  \"handle_{type}\" callback, which takes\n        // the figure and JSON message as its only arguments.\n        try {\n            var callback = fig['handle_' + msg_type];\n        } catch (e) {\n            console.log(\n                \"No handler for the '\" + msg_type + \"' message type: \",\n                msg\n            );\n            return;\n        }\n\n        if (callback) {\n            try {\n                // console.log(\"Handling '\" + msg_type + \"' message: \", msg);\n                callback(fig, msg);\n            } catch (e) {\n                console.log(\n                    \"Exception inside the 'handler_\" + msg_type + \"' callback:\",\n                    e,\n                    e.stack,\n                    msg\n                );\n            }\n        }\n    };\n};\n\n// from http://stackoverflow.com/questions/1114465/getting-mouse-location-in-canvas\nmpl.findpos = function (e) {\n    //this section is from http://www.quirksmode.org/js/events_properties.html\n    var targ;\n    if (!e) {\n        e = window.event;\n    }\n    if (e.target) {\n        targ = e.target;\n    } else if (e.srcElement) {\n        targ = e.srcElement;\n    }\n    if (targ.nodeType === 3) {\n        // defeat Safari bug\n        targ = targ.parentNode;\n    }\n\n    // pageX,Y are the mouse positions relative to the document\n    var boundingRect = targ.getBoundingClientRect();\n    var x = e.pageX - (boundingRect.left + document.body.scrollLeft);\n    var y = e.pageY - (boundingRect.top + document.body.scrollTop);\n\n    return { x: x, y: y };\n};\n\n/*\n * return a copy of an object with only non-object keys\n * we need this to avoid circular references\n * http://stackoverflow.com/a/24161582/3208463\n */\nfunction simpleKeys(original) {\n    return Object.keys(original).reduce(function (obj, key) {\n        if (typeof original[key] !== 'object') {\n            obj[key] = original[key];\n        }\n        return obj;\n    }, {});\n}\n\nmpl.figure.prototype.mouse_event = function (event, name) {\n    var canvas_pos = mpl.findpos(event);\n\n    if (name === 'button_press') {\n        this.canvas.focus();\n        this.canvas_div.focus();\n    }\n\n    var x = canvas_pos.x * this.ratio;\n    var y = canvas_pos.y * this.ratio;\n\n    this.send_message(name, {\n        x: x,\n        y: y,\n        button: event.button,\n        step: event.step,\n        guiEvent: simpleKeys(event),\n    });\n\n    /* This prevents the web browser from automatically changing to\n     * the text insertion cursor when the button is pressed.  We want\n     * to control all of the cursor setting manually through the\n     * 'cursor' event from matplotlib */\n    event.preventDefault();\n    return false;\n};\n\nmpl.figure.prototype._key_event_extra = function (_event, _name) {\n    // Handle any extra behaviour associated with a key event\n};\n\nmpl.figure.prototype.key_event = function (event, name) {\n    // Prevent repeat events\n    if (name === 'key_press') {\n        if (event.which === this._key) {\n            return;\n        } else {\n            this._key = event.which;\n        }\n    }\n    if (name === 'key_release') {\n        this._key = null;\n    }\n\n    var value = '';\n    if (event.ctrlKey && event.which !== 17) {\n        value += 'ctrl+';\n    }\n    if (event.altKey && event.which !== 18) {\n        value += 'alt+';\n    }\n    if (event.shiftKey && event.which !== 16) {\n        value += 'shift+';\n    }\n\n    value += 'k';\n    value += event.which.toString();\n\n    this._key_event_extra(event, name);\n\n    this.send_message(name, { key: value, guiEvent: simpleKeys(event) });\n    return false;\n};\n\nmpl.figure.prototype.toolbar_button_onclick = function (name) {\n    if (name === 'download') {\n        this.handle_save(this, null);\n    } else {\n        this.send_message('toolbar_button', { name: name });\n    }\n};\n\nmpl.figure.prototype.toolbar_button_onmouseover = function (tooltip) {\n    this.message.textContent = tooltip;\n};\nmpl.toolbar_items = [[\"Home\", \"Reset original view\", \"fa fa-home icon-home\", \"home\"], [\"Back\", \"Back to previous view\", \"fa fa-arrow-left icon-arrow-left\", \"back\"], [\"Forward\", \"Forward to next view\", \"fa fa-arrow-right icon-arrow-right\", \"forward\"], [\"\", \"\", \"\", \"\"], [\"Pan\", \"Left button pans, Right button zooms\\nx/y fixes axis, CTRL fixes aspect\", \"fa fa-arrows icon-move\", \"pan\"], [\"Zoom\", \"Zoom to rectangle\\nx/y fixes axis, CTRL fixes aspect\", \"fa fa-square-o icon-check-empty\", \"zoom\"], [\"\", \"\", \"\", \"\"], [\"Download\", \"Download plot\", \"fa fa-floppy-o icon-save\", \"download\"]];\n\nmpl.extensions = [\"eps\", \"jpeg\", \"pdf\", \"png\", \"ps\", \"raw\", \"svg\", \"tif\"];\n\nmpl.default_extension = \"png\";/* global mpl */\n\nvar comm_websocket_adapter = function (comm) {\n    // Create a \"websocket\"-like object which calls the given IPython comm\n    // object with the appropriate methods. Currently this is a non binary\n    // socket, so there is still some room for performance tuning.\n    var ws = {};\n\n    ws.close = function () {\n        comm.close();\n    };\n    ws.send = function (m) {\n        //console.log('sending', m);\n        comm.send(m);\n    };\n    // Register the callback with on_msg.\n    comm.on_msg(function (msg) {\n        //console.log('receiving', msg['content']['data'], msg);\n        // Pass the mpl event to the overridden (by mpl) onmessage function.\n        ws.onmessage(msg['content']['data']);\n    });\n    return ws;\n};\n\nmpl.mpl_figure_comm = function (comm, msg) {\n    // This is the function which gets called when the mpl process\n    // starts-up an IPython Comm through the \"matplotlib\" channel.\n\n    var id = msg.content.data.id;\n    // Get hold of the div created by the display call when the Comm\n    // socket was opened in Python.\n    var element = document.getElementById(id);\n    var ws_proxy = comm_websocket_adapter(comm);\n\n    function ondownload(figure, _format) {\n        window.open(figure.canvas.toDataURL());\n    }\n\n    var fig = new mpl.figure(id, ws_proxy, ondownload, element);\n\n    // Call onopen now - mpl needs it, as it is assuming we've passed it a real\n    // web socket which is closed, not our websocket->open comm proxy.\n    ws_proxy.onopen();\n\n    fig.parent_element = element;\n    fig.cell_info = mpl.find_output_cell(\"<div id='\" + id + \"'></div>\");\n    if (!fig.cell_info) {\n        console.error('Failed to find cell for figure', id, fig);\n        return;\n    }\n    fig.cell_info[0].output_area.element.one(\n        'cleared',\n        { fig: fig },\n        fig._remove_fig_handler\n    );\n};\n\nmpl.figure.prototype.handle_close = function (fig, msg) {\n    var width = fig.canvas.width / fig.ratio;\n    fig.cell_info[0].output_area.element.off(\n        'cleared',\n        fig._remove_fig_handler\n    );\n\n    // Update the output cell to use the data from the current canvas.\n    fig.push_to_output();\n    var dataURL = fig.canvas.toDataURL();\n    // Re-enable the keyboard manager in IPython - without this line, in FF,\n    // the notebook keyboard shortcuts fail.\n    IPython.keyboard_manager.enable();\n    fig.parent_element.innerHTML =\n        '<img src=\"' + dataURL + '\" width=\"' + width + '\">';\n    fig.close_ws(fig, msg);\n};\n\nmpl.figure.prototype.close_ws = function (fig, msg) {\n    fig.send_message('closing', msg);\n    // fig.ws.close()\n};\n\nmpl.figure.prototype.push_to_output = function (_remove_interactive) {\n    // Turn the data on the canvas into data in the output cell.\n    var width = this.canvas.width / this.ratio;\n    var dataURL = this.canvas.toDataURL();\n    this.cell_info[1]['text/html'] =\n        '<img src=\"' + dataURL + '\" width=\"' + width + '\">';\n};\n\nmpl.figure.prototype.updated_canvas_event = function () {\n    // Tell IPython that the notebook contents must change.\n    IPython.notebook.set_dirty(true);\n    this.send_message('ack', {});\n    var fig = this;\n    // Wait a second, then push the new image to the DOM so\n    // that it is saved nicely (might be nice to debounce this).\n    setTimeout(function () {\n        fig.push_to_output();\n    }, 1000);\n};\n\nmpl.figure.prototype._init_toolbar = function () {\n    var fig = this;\n\n    var toolbar = document.createElement('div');\n    toolbar.classList = 'btn-toolbar';\n    this.root.appendChild(toolbar);\n\n    function on_click_closure(name) {\n        return function (_event) {\n            return fig.toolbar_button_onclick(name);\n        };\n    }\n\n    function on_mouseover_closure(tooltip) {\n        return function (event) {\n            if (!event.currentTarget.disabled) {\n                return fig.toolbar_button_onmouseover(tooltip);\n            }\n        };\n    }\n\n    fig.buttons = {};\n    var buttonGroup = document.createElement('div');\n    buttonGroup.classList = 'btn-group';\n    var button;\n    for (var toolbar_ind in mpl.toolbar_items) {\n        var name = mpl.toolbar_items[toolbar_ind][0];\n        var tooltip = mpl.toolbar_items[toolbar_ind][1];\n        var image = mpl.toolbar_items[toolbar_ind][2];\n        var method_name = mpl.toolbar_items[toolbar_ind][3];\n\n        if (!name) {\n            /* Instead of a spacer, we start a new button group. */\n            if (buttonGroup.hasChildNodes()) {\n                toolbar.appendChild(buttonGroup);\n            }\n            buttonGroup = document.createElement('div');\n            buttonGroup.classList = 'btn-group';\n            continue;\n        }\n\n        button = fig.buttons[name] = document.createElement('button');\n        button.classList = 'btn btn-default';\n        button.href = '#';\n        button.title = name;\n        button.innerHTML = '<i class=\"fa ' + image + ' fa-lg\"></i>';\n        button.addEventListener('click', on_click_closure(method_name));\n        button.addEventListener('mouseover', on_mouseover_closure(tooltip));\n        buttonGroup.appendChild(button);\n    }\n\n    if (buttonGroup.hasChildNodes()) {\n        toolbar.appendChild(buttonGroup);\n    }\n\n    // Add the status bar.\n    var status_bar = document.createElement('span');\n    status_bar.classList = 'mpl-message pull-right';\n    toolbar.appendChild(status_bar);\n    this.message = status_bar;\n\n    // Add the close button to the window.\n    var buttongrp = document.createElement('div');\n    buttongrp.classList = 'btn-group inline pull-right';\n    button = document.createElement('button');\n    button.classList = 'btn btn-mini btn-primary';\n    button.href = '#';\n    button.title = 'Stop Interaction';\n    button.innerHTML = '<i class=\"fa fa-power-off icon-remove icon-large\"></i>';\n    button.addEventListener('click', function (_evt) {\n        fig.handle_close(fig, {});\n    });\n    button.addEventListener(\n        'mouseover',\n        on_mouseover_closure('Stop Interaction')\n    );\n    buttongrp.appendChild(button);\n    var titlebar = this.root.querySelector('.ui-dialog-titlebar');\n    titlebar.insertBefore(buttongrp, titlebar.firstChild);\n};\n\nmpl.figure.prototype._remove_fig_handler = function (event) {\n    var fig = event.data.fig;\n    fig.close_ws(fig, {});\n};\n\nmpl.figure.prototype._root_extra_style = function (el) {\n    el.style.boxSizing = 'content-box'; // override notebook setting of border-box.\n};\n\nmpl.figure.prototype._canvas_extra_style = function (el) {\n    // this is important to make the div 'focusable\n    el.setAttribute('tabindex', 0);\n    // reach out to IPython and tell the keyboard manager to turn it's self\n    // off when our div gets focus\n\n    // location in version 3\n    if (IPython.notebook.keyboard_manager) {\n        IPython.notebook.keyboard_manager.register_events(el);\n    } else {\n        // location in version 2\n        IPython.keyboard_manager.register_events(el);\n    }\n};\n\nmpl.figure.prototype._key_event_extra = function (event, _name) {\n    var manager = IPython.notebook.keyboard_manager;\n    if (!manager) {\n        manager = IPython.keyboard_manager;\n    }\n\n    // Check for shift+enter\n    if (event.shiftKey && event.which === 13) {\n        this.canvas_div.blur();\n        // select the cell after this one\n        var index = IPython.notebook.find_cell_index(this.cell_info[0]);\n        IPython.notebook.select(index + 1);\n    }\n};\n\nmpl.figure.prototype.handle_save = function (fig, _msg) {\n    fig.ondownload(fig, null);\n};\n\nmpl.find_output_cell = function (html_output) {\n    // Return the cell and output element which can be found *uniquely* in the notebook.\n    // Note - this is a bit hacky, but it is done because the \"notebook_saving.Notebook\"\n    // IPython event is triggered only after the cells have been serialised, which for\n    // our purposes (turning an active figure into a static one), is too late.\n    var cells = IPython.notebook.get_cells();\n    var ncells = cells.length;\n    for (var i = 0; i < ncells; i++) {\n        var cell = cells[i];\n        if (cell.cell_type === 'code') {\n            for (var j = 0; j < cell.output_area.outputs.length; j++) {\n                var data = cell.output_area.outputs[j];\n                if (data.data) {\n                    // IPython >= 3 moved mimebundle to data attribute of output\n                    data = data.data;\n                }\n                if (data['text/html'] === html_output) {\n                    return [cell, data, j];\n                }\n            }\n        }\n    }\n};\n\n// Register the function which deals with the matplotlib target/channel.\n// The kernel may be null if the page has been refreshed.\nif (IPython.notebook.kernel !== null) {\n    IPython.notebook.kernel.comm_manager.register_target(\n        'matplotlib',\n        mpl.mpl_figure_comm\n    );\n}\n",
      "text/plain": [
       "<IPython.core.display.Javascript object>"
      ]
     },
     "metadata": {}
    },
    {
     "output_type": "display_data",
     "data": {
      "text/html": [
       "<img src=\"data:image/png;base64,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\" width=\"799.5333333333333\">"
      ],
      "text/plain": [
       "<IPython.core.display.HTML object>"
      ]
     },
     "metadata": {}
    },
    {
     "output_type": "execute_result",
     "data": {
      "text/plain": [
       "Text(0, 0.5, 'Probabilidad del bin')"
      ]
     },
     "metadata": {},
     "execution_count": 7
    }
   ],
   "metadata": {
    "scrolled": true
   }
  },
  {
   "cell_type": "markdown",
   "source": [
    "Límites de los ejes de las figuras"
   ],
   "metadata": {}
  },
  {
   "cell_type": "code",
   "execution_count": 8,
   "source": [
    "xleft = xmin-0.5*bin_width\r\n",
    "xright = xmax+0.5*bin_width\r\n",
    "ax1.set_xlim(xleft, xright)\r\n",
    "ax2.set_xlim(xleft, xright)"
   ],
   "outputs": [
    {
     "output_type": "execute_result",
     "data": {
      "text/plain": [
       "(-5.454545454545454, 5.454545454545454)"
      ]
     },
     "metadata": {},
     "execution_count": 8
    }
   ],
   "metadata": {}
  },
  {
   "cell_type": "markdown",
   "source": [
    "Histograma "
   ],
   "metadata": {}
  },
  {
   "cell_type": "code",
   "execution_count": 9,
   "source": [
    "hist = bh.Histogram(bh.axis.Regular(bins=nbins, start=xmin, stop=xmax))\r\n",
    "xbin = hist.axes.centers[0]\r\n",
    "bin_edges = hist.axes.edges[0]\r\n",
    "print(\"Bordes de los bines: \", bin_edges)"
   ],
   "outputs": [
    {
     "output_type": "stream",
     "name": "stdout",
     "text": [
      "Bordes de los bines:  [-5.         -4.09090909 -3.18181818 -2.27272727 -1.36363636 -0.45454545\n",
      "  0.45454545  1.36363636  2.27272727  3.18181818  4.09090909  5.        ]\n"
     ]
    }
   ],
   "metadata": {}
  },
  {
   "cell_type": "markdown",
   "source": [
    "PDF N(0,1) "
   ],
   "metadata": {}
  },
  {
   "cell_type": "code",
   "execution_count": 10,
   "source": [
    "x = np.linspace(xmin, xmax, 256)\r\n",
    "ax1.plot(x, norm.pdf(x), label='N(0,1)')"
   ],
   "outputs": [
    {
     "output_type": "execute_result",
     "data": {
      "text/plain": [
       "[<matplotlib.lines.Line2D at 0x7f9c6a0ce340>]"
      ]
     },
     "metadata": {},
     "execution_count": 10
    }
   ],
   "metadata": {}
  },
  {
   "cell_type": "code",
   "execution_count": 11,
   "source": [
    "ymax = norm.pdf(0)\r\n",
    "ax1.plot(bin_edges, np.full_like(bin_edges, 0), color='gray', ls='--', label='Bines')\r\n",
    "ax1.plot(bin_edges, np.full_like(bin_edges, ymax), color='gray', ls='--')\r\n",
    "ax1.vlines(bin_edges, 0, ymax, color='gray', ls='--',)"
   ],
   "outputs": [
    {
     "output_type": "execute_result",
     "data": {
      "text/plain": [
       "<matplotlib.collections.LineCollection at 0x7f9c84399100>"
      ]
     },
     "metadata": {},
     "execution_count": 11
    }
   ],
   "metadata": {
    "scrolled": true
   }
  },
  {
   "cell_type": "markdown",
   "source": [
    "Probabilidad exacta"
   ],
   "metadata": {}
  },
  {
   "cell_type": "code",
   "execution_count": 12,
   "source": [
    "cum_proba = norm.cdf(bin_edges)\r\n",
    "pbin1 = cum_proba[1:] - cum_proba[:-1]\r\n",
    "ax2.plot(xbin, pbin1, 'o', drawstyle='steps-mid', label='Exacta')"
   ],
   "outputs": [
    {
     "output_type": "execute_result",
     "data": {
      "text/plain": [
       "[<matplotlib.lines.Line2D at 0x7f9c6985efd0>]"
      ]
     },
     "metadata": {},
     "execution_count": 12
    }
   ],
   "metadata": {}
  },
  {
   "cell_type": "markdown",
   "source": [
    "Probabilidad aproximada"
   ],
   "metadata": {}
  },
  {
   "cell_type": "code",
   "execution_count": 13,
   "source": [
    "pbin2 = norm.pdf(xbin)*bin_width\r\n",
    "ax2.plot(xbin, pbin2, 's', drawstyle='steps-mid', label='Aproximada')"
   ],
   "outputs": [
    {
     "output_type": "execute_result",
     "data": {
      "text/plain": [
       "[<matplotlib.lines.Line2D at 0x7f9c6a0c2dc0>]"
      ]
     },
     "metadata": {},
     "execution_count": 13
    }
   ],
   "metadata": {}
  },
  {
   "cell_type": "code",
   "execution_count": 14,
   "source": [
    "ax1.legend()\r\n",
    "ax2.legend()"
   ],
   "outputs": [
    {
     "output_type": "execute_result",
     "data": {
      "text/plain": [
       "<matplotlib.legend.Legend at 0x7f9c6a0c28e0>"
      ]
     },
     "metadata": {},
     "execution_count": 14
    }
   ],
   "metadata": {}
  },
  {
   "cell_type": "code",
   "execution_count": 15,
   "source": [
    "plt.savefig('histo1.svg')"
   ],
   "outputs": [],
   "metadata": {}
  }
 ],
 "metadata": {
  "kernelspec": {
   "display_name": "Python 3",
   "language": "python",
   "name": "python3"
  },
  "language_info": {
   "codemirror_mode": {
    "name": "ipython",
    "version": 3
   },
   "file_extension": ".py",
   "mimetype": "text/x-python",
   "name": "python",
   "nbconvert_exporter": "python",
   "pygments_lexer": "ipython3",
   "version": "3.8.5"
  }
 },
 "nbformat": 4,
 "nbformat_minor": 4
}