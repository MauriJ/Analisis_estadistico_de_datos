{
 "cells": [
  {
   "cell_type": "code",
   "execution_count": 1,
   "source": [
    "import math\r\n",
    "import numpy as np\r\n",
    "import matplotlib.pyplot as plt\r\n",
    "from scipy.stats import uniform"
   ],
   "outputs": [],
   "metadata": {}
  },
  {
   "cell_type": "code",
   "execution_count": 43,
   "source": [
    "loc = 0\r\n",
    "scale = 25\r\n",
    "\r\n",
    "r = uniform.rvs(loc, scale, size=1000)\r\n",
    "\r\n",
    "prom = np.mean(r)\r\n",
    "desv = np.std(r)\r\n",
    "\r\n",
    "prom_teorico = uniform.mean(loc, scale)\r\n",
    "desv_teorico = uniform.std(loc, scale)"
   ],
   "outputs": [],
   "metadata": {}
  },
  {
   "cell_type": "code",
   "execution_count": 44,
   "source": [
    "print(prom, desv)\r\n",
    "print(prom_teorico, desv_teorico)"
   ],
   "outputs": [
    {
     "output_type": "stream",
     "name": "stdout",
     "text": [
      "12.676098847366228 7.061846183020075\n",
      "12.5 7.216878364870322\n"
     ]
    }
   ],
   "metadata": {}
  },
  {
   "cell_type": "code",
   "execution_count": 69,
   "source": [
    "fig, (ax1, ax2) = plt.subplots(1,2, figsize=(10,4))\r\n",
    "\r\n",
    "bin = np.linspace(0,25,10)\r\n",
    "hist, bins = np.histogram(r, bins = bin)\r\n",
    "\r\n",
    "ax1.hist(r, bin, alpha = 0.5, label = 'Frecuencia')\r\n",
    "ax2.hist(r, bin, alpha = 0.5, density = True, label = 'Densidad')\r\n",
    "\r\n",
    "ax1.axvline(prom, linestyle = '--', color = 'k')\r\n",
    "ax1.axvline(prom+desv, linestyle = '--', color = 'r')\r\n",
    "ax1.axvline(prom-desv, linestyle = '--', color = 'r')\r\n",
    "\r\n",
    "ax1.axvline(prom+desv, linestyle = '--', color = 'r')\r\n",
    "ax1.axvline(prom-desv, linestyle = '--', color = 'r')\r\n",
    "\r\n",
    "ax2.axvline(prom, linestyle = '--', color = 'k')\r\n",
    "ax2.axvline(prom+desv, linestyle = '--', color = 'r')\r\n",
    "ax2.axvline(prom-desv, linestyle = '--', color = 'r')\r\n",
    "\r\n",
    "ax1.set_xlabel('X', fontsize = 18)\r\n",
    "ax1.set_ylabel('Frecuencia', fontsize = 18)\r\n",
    "\r\n",
    "ax2.set_xlabel('X', fontsize = 18)\r\n",
    "ax2.set_ylabel('Densidad', fontsize = 18)\r\n",
    "\r\n",
    "plt.show()"
   ],
   "outputs": [
    {
     "output_type": "display_data",
     "data": {
      "image/png": "[encoded data removed]",
      "text/plain": [
       "<Figure size 720x288 with 2 Axes>"
      ]
     },
     "metadata": {
      "needs_background": "light"
     }
    }
   ],
   "metadata": {}
  }
 ],
 "metadata": {
  "orig_nbformat": 4,
  "language_info": {
   "name": "python",
   "version": "3.7.1",
   "mimetype": "text/x-python",
   "codemirror_mode": {
    "name": "ipython",
    "version": 3
   },
   "pygments_lexer": "ipython3",
   "nbconvert_exporter": "python",
   "file_extension": ".py"
  },
  "kernelspec": {
   "name": "python3",
   "display_name": "Python 3.7.1 64-bit (conda)"
  },
  "interpreter": {
   "hash": "af573f283834de0d94267a2f349eb6a57bfc80fc16df6f4176b3eb1c7a5367fc"
  }
 },
 "nbformat": 4,
 "nbformat_minor": 2
}